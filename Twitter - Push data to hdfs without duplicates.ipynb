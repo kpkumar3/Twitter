{
 "cells": [
  {
   "cell_type": "code",
   "execution_count": 1,
   "metadata": {
    "collapsed": true
   },
   "outputs": [],
   "source": [
    "import os, sys\n",
    "import threading, logging, time\n",
    "import multiprocessing\n",
    "import gzip\n",
    "import datetime\n",
    "from datetime import timedelta\n",
    "import time\n",
    "from kafka import KafkaConsumer, KafkaProducer\n",
    "import json"
   ]
  },
  {
   "cell_type": "code",
   "execution_count": null,
   "metadata": {},
   "outputs": [
    {
     "name": "stdout",
     "output_type": "stream",
     "text": [
      "we are here again!\n"
     ]
    }
   ],
   "source": [
    "if __name__ == \"__main__\":\n",
    "    consumer = KafkaConsumer(bootstrap_servers='backend-0-3:6667',\n",
    "                             auto_offset_reset='earliest',\n",
    "                             consumer_timeout_ms=30000) #timeout ms has to be adjusted so that it does not break for loop many times.\n",
    "                             #value_deserializer=lambda m: json.loads(m.decode('utf-8')))\n",
    "         \n",
    "    consumer.subscribe(['atlanta_sprint_twitter'])\n",
    "    #Initiate counters for number of records written to file and number of errors\n",
    "    fcntr = 0\n",
    "    ecntr = 0\n",
    "    #Run this piece of code in loop by specifying while True condition\n",
    "    while True:\n",
    "        #Initiating an empty set to store tweet IDs\n",
    "        tweet_ids = set()   \n",
    "        #Current time\n",
    "        t1 = datetime.datetime.strftime(datetime.datetime.now(),\"%Y%m%d%H\")\n",
    "        #Create temporary JSON file to write data locally. This file will be pushed to kafka every hour.\n",
    "        f = open('twdata.json', 'wb')\n",
    "        #Iterate through each message received through kafka consumer\n",
    "        for message in consumer:\n",
    "            #the data is deserialized and message is a tuple with 7th element containing the json data. \n",
    "            #JSON data is loaded using json.loads.\n",
    "            tweet_data = json.loads(message.value.decode(\"utf-8\"))\n",
    "            #using a try except block to make sure that the errors do not stop the code and the errors are counted. \n",
    "            try:\n",
    "                #Checking if the tweet ID is already present in the list of unique tweet IDs\n",
    "                if tweet_data['id'] not in tweet_ids:\n",
    "                    #if it is a unique tweet, write it to the file.\n",
    "                    f.write(message.value)\n",
    "                    fcntr+=1\n",
    "                    #add the unique tweet ID to the set.\n",
    "                    tweet_ids.add(tweet_data['id'])\n",
    "                \n",
    "                #If the current time is greater than the time noted at the beginnig of the hour (change of hour), \n",
    "                #then push file to HDFS, reset the tweet IDs set and reopen the temporary file.\n",
    "                if datetime.datetime.strftime(datetime.datetime.now(),\"%Y%m%d%H\") > t1:\n",
    "                    # If time exceeds one hour then push the file to HDFS cluster\n",
    "                    f.close()\n",
    "                    fname = '/data/atl_sprint_2018/twitter_archive/tw%s.json' % (datetime.datetime.strftime(datetime.datetime.now(), \"%Y%m%dT%H%M\"))\n",
    "                    var = os.system('hdfs dfs -put twdata.json %s' %(fname))\n",
    "                    tweet_ids = set()   #Initiating an empty list\n",
    "                    #Reassign the current time in YYYYMMDDH to t1. \n",
    "                    t1 = datetime.datetime.strftime(datetime.datetime.now(),\"%Y%m%d%H\")\n",
    "                    #Reopen the temp file in write binary mode\n",
    "                    f = open('twdata.json', 'wb')\n",
    "                    print(\"%s files written at %s excluding %s errors\" %(fcntr,t1,ecntr))\n",
    "                    ecntr=fcntr=0\n",
    "                    break\n",
    "            except:\n",
    "                ecntr+=1\n",
    "        print('end of while loop')"
   ]
  }
 ],
 "metadata": {
  "kernelspec": {
   "display_name": "Python3",
   "language": "python",
   "name": "python3"
  },
  "language_info": {
   "codemirror_mode": {
    "name": "ipython",
    "version": 3
   },
   "file_extension": ".py",
   "mimetype": "text/x-python",
   "name": "python",
   "nbconvert_exporter": "python",
   "pygments_lexer": "ipython3",
   "version": "3.6.4"
  }
 },
 "nbformat": 4,
 "nbformat_minor": 2
}
